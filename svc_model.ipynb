{
 "cells": [
  {
   "cell_type": "markdown",
   "id": "8005c37c-fd20-4321-9e5f-bdf571f880cd",
   "metadata": {},
   "source": [
    "# SVC Model"
   ]
  },
  {
   "cell_type": "code",
   "execution_count": 59,
   "id": "aac7d3bc-525d-46e3-9d3b-79a1d9332bbc",
   "metadata": {},
   "outputs": [
    {
     "name": "stdout",
     "output_type": "stream",
     "text": [
      "Fitting 5 folds for each of 18 candidates, totalling 90 fits\n",
      "[CV] END ........................C=1, gamma=1, kernel=linear; total time=   0.2s\n",
      "[CV] END ........................C=1, gamma=1, kernel=linear; total time=   0.1s\n",
      "[CV] END ........................C=1, gamma=1, kernel=linear; total time=   0.1s\n",
      "[CV] END ........................C=1, gamma=1, kernel=linear; total time=   0.0s\n",
      "[CV] END ........................C=1, gamma=1, kernel=linear; total time=   0.0s\n",
      "[CV] END ...........................C=1, gamma=1, kernel=rbf; total time=   0.3s\n",
      "[CV] END ...........................C=1, gamma=1, kernel=rbf; total time=   0.3s\n",
      "[CV] END ...........................C=1, gamma=1, kernel=rbf; total time=   0.3s\n",
      "[CV] END ...........................C=1, gamma=1, kernel=rbf; total time=   0.3s\n",
      "[CV] END ...........................C=1, gamma=1, kernel=rbf; total time=   0.3s\n",
      "[CV] END ......................C=1, gamma=0.1, kernel=linear; total time=   0.0s\n",
      "[CV] END ......................C=1, gamma=0.1, kernel=linear; total time=   0.0s\n",
      "[CV] END ......................C=1, gamma=0.1, kernel=linear; total time=   0.1s\n",
      "[CV] END ......................C=1, gamma=0.1, kernel=linear; total time=   0.1s\n",
      "[CV] END ......................C=1, gamma=0.1, kernel=linear; total time=   0.1s\n",
      "[CV] END .........................C=1, gamma=0.1, kernel=rbf; total time=   0.1s\n",
      "[CV] END .........................C=1, gamma=0.1, kernel=rbf; total time=   0.1s\n",
      "[CV] END .........................C=1, gamma=0.1, kernel=rbf; total time=   0.1s\n",
      "[CV] END .........................C=1, gamma=0.1, kernel=rbf; total time=   0.1s\n",
      "[CV] END .........................C=1, gamma=0.1, kernel=rbf; total time=   0.1s\n",
      "[CV] END .....................C=1, gamma=0.01, kernel=linear; total time=   0.1s\n",
      "[CV] END .....................C=1, gamma=0.01, kernel=linear; total time=   0.1s\n",
      "[CV] END .....................C=1, gamma=0.01, kernel=linear; total time=   0.1s\n",
      "[CV] END .....................C=1, gamma=0.01, kernel=linear; total time=   0.0s\n",
      "[CV] END .....................C=1, gamma=0.01, kernel=linear; total time=   0.0s\n",
      "[CV] END ........................C=1, gamma=0.01, kernel=rbf; total time=   0.1s\n",
      "[CV] END ........................C=1, gamma=0.01, kernel=rbf; total time=   0.1s\n",
      "[CV] END ........................C=1, gamma=0.01, kernel=rbf; total time=   0.1s\n",
      "[CV] END ........................C=1, gamma=0.01, kernel=rbf; total time=   0.1s\n",
      "[CV] END ........................C=1, gamma=0.01, kernel=rbf; total time=   0.1s\n",
      "[CV] END .......................C=10, gamma=1, kernel=linear; total time=   0.1s\n",
      "[CV] END .......................C=10, gamma=1, kernel=linear; total time=   0.1s\n",
      "[CV] END .......................C=10, gamma=1, kernel=linear; total time=   0.2s\n",
      "[CV] END .......................C=10, gamma=1, kernel=linear; total time=   0.2s\n",
      "[CV] END .......................C=10, gamma=1, kernel=linear; total time=   0.1s\n",
      "[CV] END ..........................C=10, gamma=1, kernel=rbf; total time=   0.3s\n",
      "[CV] END ..........................C=10, gamma=1, kernel=rbf; total time=   0.3s\n",
      "[CV] END ..........................C=10, gamma=1, kernel=rbf; total time=   0.3s\n",
      "[CV] END ..........................C=10, gamma=1, kernel=rbf; total time=   0.4s\n",
      "[CV] END ..........................C=10, gamma=1, kernel=rbf; total time=   0.3s\n",
      "[CV] END .....................C=10, gamma=0.1, kernel=linear; total time=   0.1s\n",
      "[CV] END .....................C=10, gamma=0.1, kernel=linear; total time=   0.2s\n",
      "[CV] END .....................C=10, gamma=0.1, kernel=linear; total time=   0.2s\n",
      "[CV] END .....................C=10, gamma=0.1, kernel=linear; total time=   0.2s\n",
      "[CV] END .....................C=10, gamma=0.1, kernel=linear; total time=   0.1s\n",
      "[CV] END ........................C=10, gamma=0.1, kernel=rbf; total time=   0.1s\n",
      "[CV] END ........................C=10, gamma=0.1, kernel=rbf; total time=   0.1s\n",
      "[CV] END ........................C=10, gamma=0.1, kernel=rbf; total time=   0.1s\n",
      "[CV] END ........................C=10, gamma=0.1, kernel=rbf; total time=   0.1s\n",
      "[CV] END ........................C=10, gamma=0.1, kernel=rbf; total time=   0.1s\n",
      "[CV] END ....................C=10, gamma=0.01, kernel=linear; total time=   0.1s\n",
      "[CV] END ....................C=10, gamma=0.01, kernel=linear; total time=   0.1s\n",
      "[CV] END ....................C=10, gamma=0.01, kernel=linear; total time=   0.3s\n",
      "[CV] END ....................C=10, gamma=0.01, kernel=linear; total time=   0.1s\n",
      "[CV] END ....................C=10, gamma=0.01, kernel=linear; total time=   0.2s\n",
      "[CV] END .......................C=10, gamma=0.01, kernel=rbf; total time=   0.1s\n",
      "[CV] END .......................C=10, gamma=0.01, kernel=rbf; total time=   0.1s\n",
      "[CV] END .......................C=10, gamma=0.01, kernel=rbf; total time=   0.3s\n",
      "[CV] END .......................C=10, gamma=0.01, kernel=rbf; total time=   0.1s\n",
      "[CV] END .......................C=10, gamma=0.01, kernel=rbf; total time=   0.1s\n",
      "[CV] END ......................C=100, gamma=1, kernel=linear; total time=   2.7s\n",
      "[CV] END ......................C=100, gamma=1, kernel=linear; total time=   0.8s\n",
      "[CV] END ......................C=100, gamma=1, kernel=linear; total time=   1.1s\n",
      "[CV] END ......................C=100, gamma=1, kernel=linear; total time=   0.7s\n",
      "[CV] END ......................C=100, gamma=1, kernel=linear; total time=   0.8s\n",
      "[CV] END .........................C=100, gamma=1, kernel=rbf; total time=   0.4s\n",
      "[CV] END .........................C=100, gamma=1, kernel=rbf; total time=   0.3s\n",
      "[CV] END .........................C=100, gamma=1, kernel=rbf; total time=   0.3s\n",
      "[CV] END .........................C=100, gamma=1, kernel=rbf; total time=   0.3s\n",
      "[CV] END .........................C=100, gamma=1, kernel=rbf; total time=   0.3s\n",
      "[CV] END ....................C=100, gamma=0.1, kernel=linear; total time=   0.9s\n",
      "[CV] END ....................C=100, gamma=0.1, kernel=linear; total time=   0.8s\n",
      "[CV] END ....................C=100, gamma=0.1, kernel=linear; total time=   1.1s\n",
      "[CV] END ....................C=100, gamma=0.1, kernel=linear; total time=   0.7s\n",
      "[CV] END ....................C=100, gamma=0.1, kernel=linear; total time=   0.8s\n",
      "[CV] END .......................C=100, gamma=0.1, kernel=rbf; total time=   0.1s\n",
      "[CV] END .......................C=100, gamma=0.1, kernel=rbf; total time=   0.1s\n",
      "[CV] END .......................C=100, gamma=0.1, kernel=rbf; total time=   0.1s\n",
      "[CV] END .......................C=100, gamma=0.1, kernel=rbf; total time=   0.1s\n",
      "[CV] END .......................C=100, gamma=0.1, kernel=rbf; total time=   0.1s\n",
      "[CV] END ...................C=100, gamma=0.01, kernel=linear; total time=   1.5s\n",
      "[CV] END ...................C=100, gamma=0.01, kernel=linear; total time=   0.8s\n",
      "[CV] END ...................C=100, gamma=0.01, kernel=linear; total time=   1.3s\n",
      "[CV] END ...................C=100, gamma=0.01, kernel=linear; total time=   1.5s\n",
      "[CV] END ...................C=100, gamma=0.01, kernel=linear; total time=   1.4s\n",
      "[CV] END ......................C=100, gamma=0.01, kernel=rbf; total time=   0.1s\n",
      "[CV] END ......................C=100, gamma=0.01, kernel=rbf; total time=   0.1s\n",
      "[CV] END ......................C=100, gamma=0.01, kernel=rbf; total time=   0.1s\n",
      "[CV] END ......................C=100, gamma=0.01, kernel=rbf; total time=   0.1s\n",
      "[CV] END ......................C=100, gamma=0.01, kernel=rbf; total time=   0.1s\n"
     ]
    },
    {
     "data": {
      "text/plain": [
       "GridSearchCV(estimator=SVC(),\n",
       "             param_grid={'C': [1, 10, 100], 'gamma': [1, 0.1, 0.01],\n",
       "                         'kernel': ['linear', 'rbf']},\n",
       "             verbose=2)"
      ]
     },
     "execution_count": 59,
     "metadata": {},
     "output_type": "execute_result"
    }
   ],
   "source": [
    "param_grid = {'C':[1,10,100],'gamma':[1,0.1,0.01], 'kernel':['linear','rbf']}\n",
    "grid = GridSearchCV(SVC(),param_grid,refit = True, verbose=2)\n",
    "grid.fit(X_train_sc,y_train)"
   ]
  },
  {
   "cell_type": "code",
   "execution_count": 60,
   "id": "ee4e1e0f-e650-4bac-9675-8f1026ff015a",
   "metadata": {},
   "outputs": [
    {
     "data": {
      "text/plain": [
       "{'C': 10, 'gamma': 0.1, 'kernel': 'rbf'}"
      ]
     },
     "execution_count": 60,
     "metadata": {},
     "output_type": "execute_result"
    }
   ],
   "source": [
    "grid.best_params_"
   ]
  },
  {
   "cell_type": "code",
   "execution_count": 65,
   "id": "6170a8a7-9e6a-4470-af7f-065e5ffc55e8",
   "metadata": {},
   "outputs": [
    {
     "name": "stdout",
     "output_type": "stream",
     "text": [
      "              precision    recall  f1-score   support\n",
      "\n",
      "         1.0       0.95      0.99      0.97       414\n",
      "         2.0       0.87      0.74      0.80        74\n",
      "         3.0       1.00      0.89      0.94        44\n",
      "\n",
      "    accuracy                           0.94       532\n",
      "   macro avg       0.94      0.87      0.90       532\n",
      "weighted avg       0.94      0.94      0.94       532\n",
      "\n",
      "[[408   6   0]\n",
      " [ 19  55   0]\n",
      " [  3   2  39]]\n"
     ]
    }
   ],
   "source": [
    "preds = grid.predict(X_test_sc)\n",
    "print(classification_report(y_test,preds))\n",
    "print(confusion_matrix(y_test, preds))"
   ]
  },
  {
   "cell_type": "code",
   "execution_count": null,
   "id": "20f7f17a-2787-42a5-af57-f8d151e5b101",
   "metadata": {},
   "outputs": [],
   "source": [
    "grid"
   ]
  },
  {
   "cell_type": "code",
   "execution_count": 67,
   "id": "8ad46197-c42e-4f98-9ee4-007096281982",
   "metadata": {},
   "outputs": [
    {
     "name": "stdout",
     "output_type": "stream",
     "text": [
      " Random Forest Train Score is: 0.9843161856963614\n",
      " Random Forest Test Score is: 0.943609022556391\n"
     ]
    }
   ],
   "source": [
    "print(f' Random Forest Train Score is: {grid.score(X_train_sc,y_train)}')\n",
    "print(f' Random Forest Test Score is: {grid.score(X_test_sc,y_test)}')"
   ]
  }
 ],
 "metadata": {
  "kernelspec": {
   "display_name": "Python 3",
   "language": "python",
   "name": "python3"
  },
  "language_info": {
   "codemirror_mode": {
    "name": "ipython",
    "version": 3
   },
   "file_extension": ".py",
   "mimetype": "text/x-python",
   "name": "python",
   "nbconvert_exporter": "python",
   "pygments_lexer": "ipython3",
   "version": "3.8.8"
  }
 },
 "nbformat": 4,
 "nbformat_minor": 5
}
