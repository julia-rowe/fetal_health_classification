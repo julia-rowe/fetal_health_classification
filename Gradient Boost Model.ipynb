{
 "cells": [
  {
   "cell_type": "markdown",
   "id": "df1588be",
   "metadata": {},
   "source": [
    "## Gradient Boost Model ##"
   ]
  },
  {
   "cell_type": "markdown",
   "id": "44649d0c",
   "metadata": {},
   "source": [
    "We will be exploring the gradient boost model since it has great predictive power, handles heterogenous features.outliers in the data very well."
   ]
  },
  {
   "cell_type": "code",
   "execution_count": 100,
   "id": "e1033a52",
   "metadata": {},
   "outputs": [],
   "source": [
    "#imports\n",
    "\n",
    "import numpy as np\n",
    "import pandas as pd\n",
    "import matplotlib.pyplot as plt\n",
    "import seaborn as sns\n",
    "from sklearn.model_selection import train_test_split, GridSearchCV\n",
    "from sklearn.pipeline import Pipeline\n",
    "from sklearn.preprocessing import StandardScaler\n",
    "from sklearn.ensemble import GradientBoostingClassifier\n",
    "from sklearn.metrics import precision_score, recall_score, confusion_matrix, ConfusionMatrixDisplay, classification_report, accuracy_score, f1_score\n",
    "from sklearn import metrics\n",
    "import pickle"
   ]
  },
  {
   "cell_type": "code",
   "execution_count": 2,
   "id": "e2a05da8",
   "metadata": {},
   "outputs": [],
   "source": [
    "pd.set_option('display.max_columns', 200)"
   ]
  },
  {
   "cell_type": "code",
   "execution_count": 3,
   "id": "e5673d21",
   "metadata": {},
   "outputs": [],
   "source": [
    "df = pd.read_csv('./fetal_health.csv')"
   ]
  },
  {
   "cell_type": "code",
   "execution_count": 4,
   "id": "f73e2b75",
   "metadata": {
    "scrolled": true
   },
   "outputs": [
    {
     "data": {
      "text/html": [
       "<div>\n",
       "<style scoped>\n",
       "    .dataframe tbody tr th:only-of-type {\n",
       "        vertical-align: middle;\n",
       "    }\n",
       "\n",
       "    .dataframe tbody tr th {\n",
       "        vertical-align: top;\n",
       "    }\n",
       "\n",
       "    .dataframe thead th {\n",
       "        text-align: right;\n",
       "    }\n",
       "</style>\n",
       "<table border=\"1\" class=\"dataframe\">\n",
       "  <thead>\n",
       "    <tr style=\"text-align: right;\">\n",
       "      <th></th>\n",
       "      <th>baseline value</th>\n",
       "      <th>accelerations</th>\n",
       "      <th>fetal_movement</th>\n",
       "      <th>uterine_contractions</th>\n",
       "      <th>light_decelerations</th>\n",
       "      <th>severe_decelerations</th>\n",
       "      <th>prolongued_decelerations</th>\n",
       "      <th>abnormal_short_term_variability</th>\n",
       "      <th>mean_value_of_short_term_variability</th>\n",
       "      <th>percentage_of_time_with_abnormal_long_term_variability</th>\n",
       "      <th>mean_value_of_long_term_variability</th>\n",
       "      <th>histogram_width</th>\n",
       "      <th>histogram_min</th>\n",
       "      <th>histogram_max</th>\n",
       "      <th>histogram_number_of_peaks</th>\n",
       "      <th>histogram_number_of_zeroes</th>\n",
       "      <th>histogram_mode</th>\n",
       "      <th>histogram_mean</th>\n",
       "      <th>histogram_median</th>\n",
       "      <th>histogram_variance</th>\n",
       "      <th>histogram_tendency</th>\n",
       "      <th>fetal_health</th>\n",
       "    </tr>\n",
       "  </thead>\n",
       "  <tbody>\n",
       "    <tr>\n",
       "      <th>0</th>\n",
       "      <td>120</td>\n",
       "      <td>0.000</td>\n",
       "      <td>0.0</td>\n",
       "      <td>0.000</td>\n",
       "      <td>0.000</td>\n",
       "      <td>0.0</td>\n",
       "      <td>0.0</td>\n",
       "      <td>73</td>\n",
       "      <td>0.5</td>\n",
       "      <td>43</td>\n",
       "      <td>2.4</td>\n",
       "      <td>64</td>\n",
       "      <td>62</td>\n",
       "      <td>126</td>\n",
       "      <td>2</td>\n",
       "      <td>0</td>\n",
       "      <td>120</td>\n",
       "      <td>137</td>\n",
       "      <td>121</td>\n",
       "      <td>73</td>\n",
       "      <td>1</td>\n",
       "      <td>2</td>\n",
       "    </tr>\n",
       "    <tr>\n",
       "      <th>1</th>\n",
       "      <td>132</td>\n",
       "      <td>0.006</td>\n",
       "      <td>0.0</td>\n",
       "      <td>0.006</td>\n",
       "      <td>0.003</td>\n",
       "      <td>0.0</td>\n",
       "      <td>0.0</td>\n",
       "      <td>17</td>\n",
       "      <td>2.1</td>\n",
       "      <td>0</td>\n",
       "      <td>10.4</td>\n",
       "      <td>130</td>\n",
       "      <td>68</td>\n",
       "      <td>198</td>\n",
       "      <td>6</td>\n",
       "      <td>1</td>\n",
       "      <td>141</td>\n",
       "      <td>136</td>\n",
       "      <td>140</td>\n",
       "      <td>12</td>\n",
       "      <td>0</td>\n",
       "      <td>1</td>\n",
       "    </tr>\n",
       "    <tr>\n",
       "      <th>2</th>\n",
       "      <td>133</td>\n",
       "      <td>0.003</td>\n",
       "      <td>0.0</td>\n",
       "      <td>0.008</td>\n",
       "      <td>0.003</td>\n",
       "      <td>0.0</td>\n",
       "      <td>0.0</td>\n",
       "      <td>16</td>\n",
       "      <td>2.1</td>\n",
       "      <td>0</td>\n",
       "      <td>13.4</td>\n",
       "      <td>130</td>\n",
       "      <td>68</td>\n",
       "      <td>198</td>\n",
       "      <td>5</td>\n",
       "      <td>1</td>\n",
       "      <td>141</td>\n",
       "      <td>135</td>\n",
       "      <td>138</td>\n",
       "      <td>13</td>\n",
       "      <td>0</td>\n",
       "      <td>1</td>\n",
       "    </tr>\n",
       "    <tr>\n",
       "      <th>3</th>\n",
       "      <td>134</td>\n",
       "      <td>0.003</td>\n",
       "      <td>0.0</td>\n",
       "      <td>0.008</td>\n",
       "      <td>0.003</td>\n",
       "      <td>0.0</td>\n",
       "      <td>0.0</td>\n",
       "      <td>16</td>\n",
       "      <td>2.4</td>\n",
       "      <td>0</td>\n",
       "      <td>23.0</td>\n",
       "      <td>117</td>\n",
       "      <td>53</td>\n",
       "      <td>170</td>\n",
       "      <td>11</td>\n",
       "      <td>0</td>\n",
       "      <td>137</td>\n",
       "      <td>134</td>\n",
       "      <td>137</td>\n",
       "      <td>13</td>\n",
       "      <td>1</td>\n",
       "      <td>1</td>\n",
       "    </tr>\n",
       "    <tr>\n",
       "      <th>4</th>\n",
       "      <td>132</td>\n",
       "      <td>0.007</td>\n",
       "      <td>0.0</td>\n",
       "      <td>0.008</td>\n",
       "      <td>0.000</td>\n",
       "      <td>0.0</td>\n",
       "      <td>0.0</td>\n",
       "      <td>16</td>\n",
       "      <td>2.4</td>\n",
       "      <td>0</td>\n",
       "      <td>19.9</td>\n",
       "      <td>117</td>\n",
       "      <td>53</td>\n",
       "      <td>170</td>\n",
       "      <td>9</td>\n",
       "      <td>0</td>\n",
       "      <td>137</td>\n",
       "      <td>136</td>\n",
       "      <td>138</td>\n",
       "      <td>11</td>\n",
       "      <td>1</td>\n",
       "      <td>1</td>\n",
       "    </tr>\n",
       "  </tbody>\n",
       "</table>\n",
       "</div>"
      ],
      "text/plain": [
       "   baseline value  accelerations  fetal_movement  uterine_contractions  \\\n",
       "0             120          0.000             0.0                 0.000   \n",
       "1             132          0.006             0.0                 0.006   \n",
       "2             133          0.003             0.0                 0.008   \n",
       "3             134          0.003             0.0                 0.008   \n",
       "4             132          0.007             0.0                 0.008   \n",
       "\n",
       "   light_decelerations  severe_decelerations  prolongued_decelerations  \\\n",
       "0                0.000                   0.0                       0.0   \n",
       "1                0.003                   0.0                       0.0   \n",
       "2                0.003                   0.0                       0.0   \n",
       "3                0.003                   0.0                       0.0   \n",
       "4                0.000                   0.0                       0.0   \n",
       "\n",
       "   abnormal_short_term_variability  mean_value_of_short_term_variability  \\\n",
       "0                               73                                   0.5   \n",
       "1                               17                                   2.1   \n",
       "2                               16                                   2.1   \n",
       "3                               16                                   2.4   \n",
       "4                               16                                   2.4   \n",
       "\n",
       "   percentage_of_time_with_abnormal_long_term_variability  \\\n",
       "0                                                 43        \n",
       "1                                                  0        \n",
       "2                                                  0        \n",
       "3                                                  0        \n",
       "4                                                  0        \n",
       "\n",
       "   mean_value_of_long_term_variability  histogram_width  histogram_min  \\\n",
       "0                                  2.4               64             62   \n",
       "1                                 10.4              130             68   \n",
       "2                                 13.4              130             68   \n",
       "3                                 23.0              117             53   \n",
       "4                                 19.9              117             53   \n",
       "\n",
       "   histogram_max  histogram_number_of_peaks  histogram_number_of_zeroes  \\\n",
       "0            126                          2                           0   \n",
       "1            198                          6                           1   \n",
       "2            198                          5                           1   \n",
       "3            170                         11                           0   \n",
       "4            170                          9                           0   \n",
       "\n",
       "   histogram_mode  histogram_mean  histogram_median  histogram_variance  \\\n",
       "0             120             137               121                  73   \n",
       "1             141             136               140                  12   \n",
       "2             141             135               138                  13   \n",
       "3             137             134               137                  13   \n",
       "4             137             136               138                  11   \n",
       "\n",
       "   histogram_tendency  fetal_health  \n",
       "0                   1             2  \n",
       "1                   0             1  \n",
       "2                   0             1  \n",
       "3                   1             1  \n",
       "4                   1             1  "
      ]
     },
     "execution_count": 4,
     "metadata": {},
     "output_type": "execute_result"
    }
   ],
   "source": [
    "df.head()"
   ]
  },
  {
   "cell_type": "code",
   "execution_count": 10,
   "id": "abc948e2",
   "metadata": {},
   "outputs": [
    {
     "data": {
      "text/plain": [
       "1    0.778457\n",
       "2    0.138758\n",
       "3    0.082785\n",
       "Name: fetal_health, dtype: float64"
      ]
     },
     "execution_count": 10,
     "metadata": {},
     "output_type": "execute_result"
    }
   ],
   "source": [
    "#find baseline\n",
    "\n",
    "df['fetal_health'].value_counts(normalize=True)"
   ]
  },
  {
   "cell_type": "code",
   "execution_count": 45,
   "id": "aaed76a9",
   "metadata": {},
   "outputs": [],
   "source": [
    "X = df.drop(columns=['fetal_health'])\n",
    "\n",
    "y = df['fetal_health']\n",
    "\n",
    "X_train, X_test, y_train, y_test = train_test_split(X,y, stratify = y )"
   ]
  },
  {
   "cell_type": "code",
   "execution_count": 46,
   "id": "662bb057",
   "metadata": {},
   "outputs": [],
   "source": [
    "ss = StandardScaler()\n",
    "\n",
    "X_train_sc = ss.fit_transform(X_train)\n",
    "\n",
    "X_test_sc = ss.transform(X_test)"
   ]
  },
  {
   "cell_type": "code",
   "execution_count": 55,
   "id": "d44ecff5",
   "metadata": {},
   "outputs": [
    {
     "name": "stdout",
     "output_type": "stream",
     "text": [
      "training score: 0.9937264742785445\n",
      "testing score: 0.9492481203007519\n"
     ]
    }
   ],
   "source": [
    "#instantiate model\n",
    "gbc = GradientBoostingClassifier()\n",
    "\n",
    "#fit to scaled data\n",
    "gbc.fit(X_train_sc, y_train)\n",
    "\n",
    "#make predictions\n",
    "predictions = gbc.predict(X_test_sc)\n",
    "\n",
    "#print results\n",
    "print(f'training score: {gbc.score(X_train_sc, y_train)}')\n",
    "print(f'testing score: {gbc.score(X_test_sc, y_test)}')\n"
   ]
  },
  {
   "cell_type": "code",
   "execution_count": null,
   "id": "e9d357bf",
   "metadata": {},
   "outputs": [],
   "source": [
    "#try grid search to hypertune params"
   ]
  },
  {
   "cell_type": "code",
   "execution_count": 56,
   "id": "d17d5950",
   "metadata": {},
   "outputs": [],
   "source": [
    "X = df.drop(columns=['fetal_health'])\n",
    "\n",
    "y = df['fetal_health']\n",
    "\n",
    "X_train, X_test, y_train, y_test = train_test_split(X,y, stratify = y )"
   ]
  },
  {
   "cell_type": "code",
   "execution_count": 57,
   "id": "bf0e0468",
   "metadata": {},
   "outputs": [],
   "source": [
    "pipe = Pipeline([\n",
    "    ('ss', StandardScaler()),\n",
    "    ('gbc' , GradientBoostingClassifier())\n",
    "])"
   ]
  },
  {
   "cell_type": "code",
   "execution_count": 58,
   "id": "170c45a4",
   "metadata": {},
   "outputs": [
    {
     "data": {
      "text/plain": [
       "{'memory': None,\n",
       " 'steps': [('ss', StandardScaler()), ('gbc', GradientBoostingClassifier())],\n",
       " 'verbose': False,\n",
       " 'ss': StandardScaler(),\n",
       " 'gbc': GradientBoostingClassifier(),\n",
       " 'ss__copy': True,\n",
       " 'ss__with_mean': True,\n",
       " 'ss__with_std': True,\n",
       " 'gbc__ccp_alpha': 0.0,\n",
       " 'gbc__criterion': 'friedman_mse',\n",
       " 'gbc__init': None,\n",
       " 'gbc__learning_rate': 0.1,\n",
       " 'gbc__loss': 'deviance',\n",
       " 'gbc__max_depth': 3,\n",
       " 'gbc__max_features': None,\n",
       " 'gbc__max_leaf_nodes': None,\n",
       " 'gbc__min_impurity_decrease': 0.0,\n",
       " 'gbc__min_impurity_split': None,\n",
       " 'gbc__min_samples_leaf': 1,\n",
       " 'gbc__min_samples_split': 2,\n",
       " 'gbc__min_weight_fraction_leaf': 0.0,\n",
       " 'gbc__n_estimators': 100,\n",
       " 'gbc__n_iter_no_change': None,\n",
       " 'gbc__random_state': None,\n",
       " 'gbc__subsample': 1.0,\n",
       " 'gbc__tol': 0.0001,\n",
       " 'gbc__validation_fraction': 0.1,\n",
       " 'gbc__verbose': 0,\n",
       " 'gbc__warm_start': False}"
      ]
     },
     "execution_count": 58,
     "metadata": {},
     "output_type": "execute_result"
    }
   ],
   "source": [
    "pipe.get_params()"
   ]
  },
  {
   "cell_type": "code",
   "execution_count": 59,
   "id": "77d0eb52",
   "metadata": {},
   "outputs": [],
   "source": [
    "pipe_params = {\n",
    "    'gbc__max_depth':[1, 2, 3, 4],\n",
    "    'gbc__learning_rate'  :[0.1, 0.001, 1],\n",
    "    'gbc__n_estimators' :[100, 300, 500],\n",
    "    'gbc__min_samples_leaf' :[1, 2]\n",
    "}"
   ]
  },
  {
   "cell_type": "code",
   "execution_count": 60,
   "id": "4842e1bc",
   "metadata": {},
   "outputs": [],
   "source": [
    "gs = GridSearchCV(pipe, param_grid = pipe_params, cv = 5)"
   ]
  },
  {
   "cell_type": "code",
   "execution_count": 61,
   "id": "afd75fe5",
   "metadata": {},
   "outputs": [
    {
     "data": {
      "text/plain": [
       "GridSearchCV(cv=5,\n",
       "             estimator=Pipeline(steps=[('ss', StandardScaler()),\n",
       "                                       ('gbc', GradientBoostingClassifier())]),\n",
       "             param_grid={'gbc__learning_rate': [0.1, 0.001, 1],\n",
       "                         'gbc__max_depth': [1, 2, 3, 4],\n",
       "                         'gbc__min_samples_leaf': [1, 2],\n",
       "                         'gbc__n_estimators': [100, 300, 500]})"
      ]
     },
     "execution_count": 61,
     "metadata": {},
     "output_type": "execute_result"
    }
   ],
   "source": [
    "gs.fit(X_train, y_train)"
   ]
  },
  {
   "cell_type": "code",
   "execution_count": 62,
   "id": "d97cd77f",
   "metadata": {},
   "outputs": [
    {
     "name": "stdout",
     "output_type": "stream",
     "text": [
      "training score:  1.0\n",
      "testing score: 0.9642857142857143\n"
     ]
    }
   ],
   "source": [
    "print(f'training score:  {gs.score(X_train, y_train)}')\n",
    "\n",
    "print(f'testing score: {gs.score(X_test, y_test)}')"
   ]
  },
  {
   "cell_type": "code",
   "execution_count": 63,
   "id": "c6a8c186",
   "metadata": {},
   "outputs": [
    {
     "data": {
      "text/plain": [
       "{'gbc__learning_rate': 0.1,\n",
       " 'gbc__max_depth': 2,\n",
       " 'gbc__min_samples_leaf': 2,\n",
       " 'gbc__n_estimators': 500}"
      ]
     },
     "execution_count": 63,
     "metadata": {},
     "output_type": "execute_result"
    }
   ],
   "source": [
    "gs.best_params_"
   ]
  },
  {
   "cell_type": "code",
   "execution_count": 65,
   "id": "842fa50e",
   "metadata": {},
   "outputs": [
    {
     "name": "stdout",
     "output_type": "stream",
     "text": [
      "              precision    recall  f1-score   support\n",
      "\n",
      "           1       0.98      0.98      0.98       414\n",
      "           2       0.91      0.85      0.88        74\n",
      "           3       0.93      0.98      0.96        44\n",
      "\n",
      "    accuracy                           0.96       532\n",
      "   macro avg       0.94      0.94      0.94       532\n",
      "weighted avg       0.96      0.96      0.96       532\n",
      "\n",
      "[[407   5   2]\n",
      " [ 10  63   1]\n",
      " [  0   1  43]]\n"
     ]
    }
   ],
   "source": [
    "preds = gs.predict(X_test)\n",
    "print(classification_report(y_test,preds))\n",
    "print(confusion_matrix(y_test, preds))\n"
   ]
  },
  {
   "cell_type": "code",
   "execution_count": 85,
   "id": "d85c34c1",
   "metadata": {},
   "outputs": [
    {
     "data": {
      "image/png": "[encoded data removed]",
      "text/plain": [
       "<Figure size 432x288 with 2 Axes>"
      ]
     },
     "metadata": {
      "needs_background": "light"
     },
     "output_type": "display_data"
    }
   ],
   "source": [
    "cm = confusion_matrix(y_test, preds)\n",
    "\n",
    "ConfusionMatrixDisplay(cm, display_labels=gs.classes_).plot(cmap='Blues');"
   ]
  },
  {
   "cell_type": "code",
   "execution_count": null,
   "id": "dd2225b0",
   "metadata": {},
   "outputs": [],
   "source": [
    "# try with less features"
   ]
  },
  {
   "cell_type": "code",
   "execution_count": 86,
   "id": "8e38aa16",
   "metadata": {},
   "outputs": [
    {
     "data": {
      "text/html": [
       "<div>\n",
       "<style scoped>\n",
       "    .dataframe tbody tr th:only-of-type {\n",
       "        vertical-align: middle;\n",
       "    }\n",
       "\n",
       "    .dataframe tbody tr th {\n",
       "        vertical-align: top;\n",
       "    }\n",
       "\n",
       "    .dataframe thead th {\n",
       "        text-align: right;\n",
       "    }\n",
       "</style>\n",
       "<table border=\"1\" class=\"dataframe\">\n",
       "  <thead>\n",
       "    <tr style=\"text-align: right;\">\n",
       "      <th></th>\n",
       "      <th>baseline value</th>\n",
       "      <th>accelerations</th>\n",
       "      <th>fetal_movement</th>\n",
       "      <th>uterine_contractions</th>\n",
       "      <th>light_decelerations</th>\n",
       "      <th>severe_decelerations</th>\n",
       "      <th>prolongued_decelerations</th>\n",
       "      <th>abnormal_short_term_variability</th>\n",
       "      <th>mean_value_of_short_term_variability</th>\n",
       "      <th>percentage_of_time_with_abnormal_long_term_variability</th>\n",
       "      <th>mean_value_of_long_term_variability</th>\n",
       "      <th>histogram_width</th>\n",
       "      <th>histogram_min</th>\n",
       "      <th>histogram_max</th>\n",
       "      <th>histogram_number_of_peaks</th>\n",
       "      <th>histogram_number_of_zeroes</th>\n",
       "      <th>histogram_mode</th>\n",
       "      <th>histogram_mean</th>\n",
       "      <th>histogram_median</th>\n",
       "      <th>histogram_variance</th>\n",
       "      <th>histogram_tendency</th>\n",
       "      <th>fetal_health</th>\n",
       "    </tr>\n",
       "  </thead>\n",
       "  <tbody>\n",
       "    <tr>\n",
       "      <th>0</th>\n",
       "      <td>120</td>\n",
       "      <td>0.000</td>\n",
       "      <td>0.0</td>\n",
       "      <td>0.000</td>\n",
       "      <td>0.000</td>\n",
       "      <td>0.0</td>\n",
       "      <td>0.0</td>\n",
       "      <td>73</td>\n",
       "      <td>0.5</td>\n",
       "      <td>43</td>\n",
       "      <td>2.4</td>\n",
       "      <td>64</td>\n",
       "      <td>62</td>\n",
       "      <td>126</td>\n",
       "      <td>2</td>\n",
       "      <td>0</td>\n",
       "      <td>120</td>\n",
       "      <td>137</td>\n",
       "      <td>121</td>\n",
       "      <td>73</td>\n",
       "      <td>1</td>\n",
       "      <td>2</td>\n",
       "    </tr>\n",
       "    <tr>\n",
       "      <th>1</th>\n",
       "      <td>132</td>\n",
       "      <td>0.006</td>\n",
       "      <td>0.0</td>\n",
       "      <td>0.006</td>\n",
       "      <td>0.003</td>\n",
       "      <td>0.0</td>\n",
       "      <td>0.0</td>\n",
       "      <td>17</td>\n",
       "      <td>2.1</td>\n",
       "      <td>0</td>\n",
       "      <td>10.4</td>\n",
       "      <td>130</td>\n",
       "      <td>68</td>\n",
       "      <td>198</td>\n",
       "      <td>6</td>\n",
       "      <td>1</td>\n",
       "      <td>141</td>\n",
       "      <td>136</td>\n",
       "      <td>140</td>\n",
       "      <td>12</td>\n",
       "      <td>0</td>\n",
       "      <td>1</td>\n",
       "    </tr>\n",
       "    <tr>\n",
       "      <th>2</th>\n",
       "      <td>133</td>\n",
       "      <td>0.003</td>\n",
       "      <td>0.0</td>\n",
       "      <td>0.008</td>\n",
       "      <td>0.003</td>\n",
       "      <td>0.0</td>\n",
       "      <td>0.0</td>\n",
       "      <td>16</td>\n",
       "      <td>2.1</td>\n",
       "      <td>0</td>\n",
       "      <td>13.4</td>\n",
       "      <td>130</td>\n",
       "      <td>68</td>\n",
       "      <td>198</td>\n",
       "      <td>5</td>\n",
       "      <td>1</td>\n",
       "      <td>141</td>\n",
       "      <td>135</td>\n",
       "      <td>138</td>\n",
       "      <td>13</td>\n",
       "      <td>0</td>\n",
       "      <td>1</td>\n",
       "    </tr>\n",
       "    <tr>\n",
       "      <th>3</th>\n",
       "      <td>134</td>\n",
       "      <td>0.003</td>\n",
       "      <td>0.0</td>\n",
       "      <td>0.008</td>\n",
       "      <td>0.003</td>\n",
       "      <td>0.0</td>\n",
       "      <td>0.0</td>\n",
       "      <td>16</td>\n",
       "      <td>2.4</td>\n",
       "      <td>0</td>\n",
       "      <td>23.0</td>\n",
       "      <td>117</td>\n",
       "      <td>53</td>\n",
       "      <td>170</td>\n",
       "      <td>11</td>\n",
       "      <td>0</td>\n",
       "      <td>137</td>\n",
       "      <td>134</td>\n",
       "      <td>137</td>\n",
       "      <td>13</td>\n",
       "      <td>1</td>\n",
       "      <td>1</td>\n",
       "    </tr>\n",
       "    <tr>\n",
       "      <th>4</th>\n",
       "      <td>132</td>\n",
       "      <td>0.007</td>\n",
       "      <td>0.0</td>\n",
       "      <td>0.008</td>\n",
       "      <td>0.000</td>\n",
       "      <td>0.0</td>\n",
       "      <td>0.0</td>\n",
       "      <td>16</td>\n",
       "      <td>2.4</td>\n",
       "      <td>0</td>\n",
       "      <td>19.9</td>\n",
       "      <td>117</td>\n",
       "      <td>53</td>\n",
       "      <td>170</td>\n",
       "      <td>9</td>\n",
       "      <td>0</td>\n",
       "      <td>137</td>\n",
       "      <td>136</td>\n",
       "      <td>138</td>\n",
       "      <td>11</td>\n",
       "      <td>1</td>\n",
       "      <td>1</td>\n",
       "    </tr>\n",
       "  </tbody>\n",
       "</table>\n",
       "</div>"
      ],
      "text/plain": [
       "   baseline value  accelerations  fetal_movement  uterine_contractions  \\\n",
       "0             120          0.000             0.0                 0.000   \n",
       "1             132          0.006             0.0                 0.006   \n",
       "2             133          0.003             0.0                 0.008   \n",
       "3             134          0.003             0.0                 0.008   \n",
       "4             132          0.007             0.0                 0.008   \n",
       "\n",
       "   light_decelerations  severe_decelerations  prolongued_decelerations  \\\n",
       "0                0.000                   0.0                       0.0   \n",
       "1                0.003                   0.0                       0.0   \n",
       "2                0.003                   0.0                       0.0   \n",
       "3                0.003                   0.0                       0.0   \n",
       "4                0.000                   0.0                       0.0   \n",
       "\n",
       "   abnormal_short_term_variability  mean_value_of_short_term_variability  \\\n",
       "0                               73                                   0.5   \n",
       "1                               17                                   2.1   \n",
       "2                               16                                   2.1   \n",
       "3                               16                                   2.4   \n",
       "4                               16                                   2.4   \n",
       "\n",
       "   percentage_of_time_with_abnormal_long_term_variability  \\\n",
       "0                                                 43        \n",
       "1                                                  0        \n",
       "2                                                  0        \n",
       "3                                                  0        \n",
       "4                                                  0        \n",
       "\n",
       "   mean_value_of_long_term_variability  histogram_width  histogram_min  \\\n",
       "0                                  2.4               64             62   \n",
       "1                                 10.4              130             68   \n",
       "2                                 13.4              130             68   \n",
       "3                                 23.0              117             53   \n",
       "4                                 19.9              117             53   \n",
       "\n",
       "   histogram_max  histogram_number_of_peaks  histogram_number_of_zeroes  \\\n",
       "0            126                          2                           0   \n",
       "1            198                          6                           1   \n",
       "2            198                          5                           1   \n",
       "3            170                         11                           0   \n",
       "4            170                          9                           0   \n",
       "\n",
       "   histogram_mode  histogram_mean  histogram_median  histogram_variance  \\\n",
       "0             120             137               121                  73   \n",
       "1             141             136               140                  12   \n",
       "2             141             135               138                  13   \n",
       "3             137             134               137                  13   \n",
       "4             137             136               138                  11   \n",
       "\n",
       "   histogram_tendency  fetal_health  \n",
       "0                   1             2  \n",
       "1                   0             1  \n",
       "2                   0             1  \n",
       "3                   1             1  \n",
       "4                   1             1  "
      ]
     },
     "execution_count": 86,
     "metadata": {},
     "output_type": "execute_result"
    }
   ],
   "source": [
    "df.head()"
   ]
  },
  {
   "cell_type": "code",
   "execution_count": 90,
   "id": "b2134be3",
   "metadata": {},
   "outputs": [],
   "source": [
    "X = df.loc[:, 'baseline value': 'mean_value_of_long_term_variability']\n",
    "\n",
    "y = df['fetal_health']\n",
    "\n",
    "X_train, X_test, y_train, y_test = train_test_split(X,y, stratify = y )"
   ]
  },
  {
   "cell_type": "code",
   "execution_count": 91,
   "id": "2f935f21",
   "metadata": {},
   "outputs": [],
   "source": [
    "ss = StandardScaler()\n",
    "\n",
    "X_train_sc = ss.fit_transform(X_train)\n",
    "\n",
    "X_test_sc = ss.transform(X_test)"
   ]
  },
  {
   "cell_type": "code",
   "execution_count": 95,
   "id": "d539c80a",
   "metadata": {},
   "outputs": [
    {
     "name": "stdout",
     "output_type": "stream",
     "text": [
      "training score: 0.9887076537013801\n",
      "testing score: 0.9473684210526315\n"
     ]
    }
   ],
   "source": [
    "#instantiate model\n",
    "gbc = GradientBoostingClassifier(learning_rate=.1, max_depth=2, min_samples_leaf=2, n_estimators=500)\n",
    "\n",
    "#fit to scaled data\n",
    "gbc.fit(X_train_sc, y_train)\n",
    "\n",
    "#make predictions\n",
    "predictions = gbc.predict(X_test_sc)\n",
    "\n",
    "#print results\n",
    "print(f'training score: {gbc.score(X_train_sc, y_train)}')\n",
    "print(f'testing score: {gbc.score(X_test_sc, y_test)}')"
   ]
  },
  {
   "cell_type": "code",
   "execution_count": 96,
   "id": "fcf53613",
   "metadata": {},
   "outputs": [
    {
     "name": "stdout",
     "output_type": "stream",
     "text": [
      "              precision    recall  f1-score   support\n",
      "\n",
      "           1       0.96      0.97      0.97       414\n",
      "           2       0.91      0.78      0.84        74\n",
      "           3       0.86      0.98      0.91        44\n",
      "\n",
      "    accuracy                           0.95       532\n",
      "   macro avg       0.91      0.91      0.91       532\n",
      "weighted avg       0.95      0.95      0.95       532\n",
      "\n",
      "[[403   5   6]\n",
      " [ 15  58   1]\n",
      " [  0   1  43]]\n"
     ]
    }
   ],
   "source": [
    "preds = gbc.predict(X_test_sc)\n",
    "print(classification_report(y_test,preds))\n",
    "print(confusion_matrix(y_test, preds))\n"
   ]
  },
  {
   "cell_type": "code",
   "execution_count": 97,
   "id": "e12c22a8",
   "metadata": {},
   "outputs": [
    {
     "data": {
      "image/png": "[encoded data removed]",
      "text/plain": [
       "<Figure size 432x288 with 2 Axes>"
      ]
     },
     "metadata": {
      "needs_background": "light"
     },
     "output_type": "display_data"
    }
   ],
   "source": [
    "cm = confusion_matrix(y_test, preds)\n",
    "\n",
    "ConfusionMatrixDisplay(cm, display_labels=gs.classes_).plot(cmap='Blues');"
   ]
  },
  {
   "cell_type": "code",
   "execution_count": 98,
   "id": "ce997d62",
   "metadata": {
    "scrolled": true
   },
   "outputs": [
    {
     "data": {
      "text/plain": [
       "Index(['baseline value', 'accelerations', 'fetal_movement',\n",
       "       'uterine_contractions', 'light_decelerations', 'severe_decelerations',\n",
       "       'prolongued_decelerations', 'abnormal_short_term_variability',\n",
       "       'mean_value_of_short_term_variability',\n",
       "       'percentage_of_time_with_abnormal_long_term_variability',\n",
       "       'mean_value_of_long_term_variability'],\n",
       "      dtype='object')"
      ]
     },
     "execution_count": 98,
     "metadata": {},
     "output_type": "execute_result"
    }
   ],
   "source": [
    "X.columns"
   ]
  },
  {
   "cell_type": "code",
   "execution_count": 99,
   "id": "fec433f0",
   "metadata": {},
   "outputs": [
    {
     "data": {
      "image/png": "[encoded data removed]",
      "text/plain": [
       "<Figure size 432x288 with 1 Axes>"
      ]
     },
     "metadata": {
      "needs_background": "light"
     },
     "output_type": "display_data"
    }
   ],
   "source": [
    "features = ['baseline value', 'accelerations', 'fetal_movement',\n",
    "       'uterine_contractions', 'light_decelerations', 'severe_decelerations',\n",
    "       'prolongued_decelerations', 'abnormal_short_term_variability',\n",
    "       'mean_value_of_short_term_variability',\n",
    "       'percentage_of_time_with_abnormal_long_term_variability',\n",
    "       'mean_value_of_long_term_variability']\n",
    "plt.barh(features, gbc.feature_importances_);\n"
   ]
  },
  {
   "cell_type": "code",
   "execution_count": 101,
   "id": "d99918b5",
   "metadata": {},
   "outputs": [],
   "source": [
    "# pickle\n",
    "\n",
    "with open('./gbc.pkl', 'wb') as pickle_out:\n",
    "    pickle_out = pickle.dump(gbc, pickle_out)"
   ]
  },
  {
   "cell_type": "code",
   "execution_count": 103,
   "id": "81d59282",
   "metadata": {},
   "outputs": [
    {
     "data": {
      "text/plain": [
       "GradientBoostingClassifier(max_depth=2, min_samples_leaf=2, n_estimators=500)"
      ]
     },
     "execution_count": 103,
     "metadata": {},
     "output_type": "execute_result"
    }
   ],
   "source": [
    "with open('./gbc.pkl', 'rb') as pickle_in:\n",
    "    list_from_pickle = pickle.load(pickle_in)\n",
    "    \n",
    "list_from_pickle"
   ]
  },
  {
   "cell_type": "code",
   "execution_count": null,
   "id": "e990749a",
   "metadata": {},
   "outputs": [],
   "source": []
  }
 ],
 "metadata": {
  "kernelspec": {
   "display_name": "Python 3",
   "language": "python",
   "name": "python3"
  },
  "language_info": {
   "codemirror_mode": {
    "name": "ipython",
    "version": 3
   },
   "file_extension": ".py",
   "mimetype": "text/x-python",
   "name": "python",
   "nbconvert_exporter": "python",
   "pygments_lexer": "ipython3",
   "version": "3.8.8"
  }
 },
 "nbformat": 4,
 "nbformat_minor": 5
}
